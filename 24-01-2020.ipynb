{
 "cells": [
  {
   "cell_type": "code",
   "execution_count": null,
   "metadata": {},
   "outputs": [],
   "source": [
    "Selection Sort:-\n",
    "----------------\n",
    "** Selection sort will divide the given list into two sub parts\n",
    "\t1. Sorted array\n",
    "\t2. Unsorted array\n",
    "\n",
    "** This algorithm work repeatedly by finding the least item of the list\n",
    "and Placing at first positions\n",
    "\n",
    "\n",
    "\n",
    "** Complex : O(n^2)\n"
   ]
  },
  {
   "cell_type": "code",
   "execution_count": null,
   "metadata": {},
   "outputs": [],
   "source": [
    "#include<stdio.h>\n",
    "void selectionSort(int a[],int n){\n",
    "\tint i,j,k,temp;\n",
    "\tfor(i=0;i<n-1;i++)\n",
    "\t{\n",
    "\t\tk = i;//By default k will i\n",
    "\t\tfor(j=i+1;j<n;j++){\n",
    "\t\t\tif(a[j]<a[k]){\n",
    "\t\t\t\tk = j;//Index interchange\n",
    "\t\t\t}\n",
    "\t\t}\n",
    "\t\t//Swap the i and k\n",
    "\t\ttemp = a[i];\n",
    "\t\ta[i] = a[k];\n",
    "\t\ta[k]  = temp;\n",
    "\t}\n",
    "\tfor(i=0;i<n;i++){\n",
    "\t\tprintf(\"%d \",a[i]);\n",
    "\t}\n",
    "}\n",
    "int main()\n",
    "{\n",
    "\tint x[7] = {19,25,1,27,2,77,21};\n",
    "\tselectionSort(x,7);\n",
    "\treturn 0;\n",
    "}"
   ]
  },
  {
   "cell_type": "code",
   "execution_count": null,
   "metadata": {},
   "outputs": [],
   "source": [
    "-- Finding the first least item of the list\n",
    "    -- 1 * n Print Array[0]\n",
    "-- Finding the second least item of the list\n",
    "    -- 2 * n Print Array[1]"
   ]
  },
  {
   "cell_type": "code",
   "execution_count": null,
   "metadata": {},
   "outputs": [],
   "source": [
    "Insertion Sort:-\n",
    "================\n",
    "\n",
    "** This algorithm works similar to Playing card game algorithm\n",
    "\n",
    "** It used to sort few items of the data list\n",
    "\n",
    "** Complex : O(n^2)\n"
   ]
  },
  {
   "cell_type": "code",
   "execution_count": null,
   "metadata": {},
   "outputs": [],
   "source": [
    "#include<stdio.h>\n",
    "void insertionSort(int a[],int n){\n",
    "\tint i,j,k;\n",
    "\tfor(i=1;i<n;i++)\n",
    "\t{\n",
    "\t\tk = a[i];\n",
    "\t\tj = i - 1;\n",
    "\t\twhile(j >= 0 && a[j]>k){\n",
    "\t\t\ta[j+1] = a[j];\n",
    "\t\t\tj = j-1;\n",
    "\t\t}\n",
    "\t\ta[j+1] = k;\n",
    "\t}\n",
    "\tfor(i=0;i<n;i++){\n",
    "\t\tprintf(\"%d \",a[i]);\n",
    "\t}\n",
    "}\n",
    "int main()\n",
    "{\n",
    "\tint x[7] = {19,25,1,27,2,77,21};\n",
    "\tinsertionSort(x,7);\n",
    "\treturn 0;\n",
    "}"
   ]
  },
  {
   "cell_type": "code",
   "execution_count": null,
   "metadata": {},
   "outputs": [],
   "source": [
    "Difference between Selection Sort and Insertion Sort:-\n",
    "\n",
    "Selection Sort used for finding the least items of the list\n",
    "where as Insertion used to sort first n items of the list"
   ]
  },
  {
   "cell_type": "code",
   "execution_count": null,
   "metadata": {},
   "outputs": [],
   "source": [
    "Input:-\n",
    "5\n",
    "1 2 3 4 5\n",
    "Output:-\n",
    "1 2 3 4 5\n",
    "5 1 2 3 4\n",
    "5 4 1 2 3\n",
    "5 4 3 1 2\n",
    "5 4 3 2 1"
   ]
  },
  {
   "cell_type": "code",
   "execution_count": null,
   "metadata": {},
   "outputs": [],
   "source": [
    "STACK (Array):-\n",
    "===============\n",
    "\n",
    "\t** Memory Storage\n",
    "\t** LIFO -- Last In First Out\n",
    "\t\n",
    "\tPUSH : Insert the item to the stack\n",
    "\t\n",
    "\tPOP : Remove the item from the stack\n",
    "\t\n",
    "\tPEEK : Represent the Top item of the stack"
   ]
  },
  {
   "cell_type": "code",
   "execution_count": null,
   "metadata": {},
   "outputs": [],
   "source": [
    "#include<stdio.h>\n",
    "#include<stdlib.h>\n",
    "#include<conio.h>\n",
    "int main()\n",
    "{\n",
    "\tint a[5],top=-1,x,i;\n",
    "\twhile(1){\n",
    "\t\tsystem(\"cls\");\n",
    "\t\tprintf(\"\\n -------------- \");\n",
    "\t\tprintf(\"\\n ----STACK----- \");\n",
    "\t\tprintf(\"\\n ----1. PUSH -- \");\n",
    "\t\tprintf(\"\\n ----2. POP  -- \");\n",
    "\t\tprintf(\"\\n ----3. PEEK -- \");\n",
    "\t\tprintf(\"\\n ----4. Display \");\n",
    "\t\tprintf(\"\\n ----5. Exit -- \");\n",
    "\t\tprintf(\"\\n Enter Your Choice : \");\n",
    "\t\tscanf(\"%d\",&x);\n",
    "\t\tswitch(x){\n",
    "\t\t\tcase 1: if(top<4)\n",
    "\t\t\t\t\t{\n",
    "\t\t\t\t\t\ttop++;\n",
    "\t\t\t\t\t\tprintf(\"\\n Enter the Item Value : \");\n",
    "\t\t\t\t\t\tscanf(\"%d\",&a[top]);\n",
    "\t\t\t\t\t\tprintf(\"\\n Value is Pushed to the Stack \");\n",
    "\t\t\t\t\t\tgetch();\n",
    "\t\t\t\t\t}\n",
    "\t\t\t\t\telse\n",
    "\t\t\t\t\t{\n",
    "\t\t\t\t\t\tprintf(\"\\n Stack is Full \\n Stack is Overflow\");\n",
    "\t\t\t\t\t\tgetch();\n",
    "\t\t\t\t\t}\n",
    "\t\t\tbreak;\n",
    "\t\t\tcase 2: if(top!=-1)\n",
    "\t\t\t\t\t{\n",
    "\t\t\t\t\t\ta[top] = 0;\n",
    "\t\t\t\t\t\ttop--;\n",
    "\t\t\t\t\t\tprintf(\"\\n Value is Poped from Stack\");\n",
    "\t\t\t\t\t\tgetch();\n",
    "\t\t\t\t\t}\n",
    "\t\t\t\t\telse\n",
    "\t\t\t\t\t{\n",
    "\t\t\t\t\t\tprintf(\"\\n Stack is Empty \\n Stack is Underflow\");\n",
    "\t\t\t\t\t\tgetch();\n",
    "\t\t\t\t\t}\n",
    "\t\t\tbreak;\n",
    "\t\t\tcase 3: if(top!=-1)\n",
    "\t\t\t\t\t{\n",
    "\t\t\t\t\t\tprintf(\"\\n Peek item of Stack is : \");\n",
    "\t\t\t\t\t\tprintf(\"%d\",a[top]);\n",
    "\t\t\t\t\t\tgetch();\n",
    "\t\t\t\t\t}\n",
    "\t\t\t\t\telse\n",
    "\t\t\t\t\t{\n",
    "\t\t\t\t\t\tprintf(\"\\n Stack is Empty \\n Stack is Underflow\");\n",
    "\t\t\t\t\t\tgetch();\n",
    "\t\t\t\t\t}\n",
    "\t\t\tbreak;\n",
    "\t\t\tcase 4: if(top!=-1)\n",
    "\t\t\t\t\t{\n",
    "\t\t\t\t\t\tprintf(\"\\n ================ \");\n",
    "\t\t\t\t\t\tprintf(\"\\n Items of Stack   \");\n",
    "\t\t\t\t\t\tfor(i=top;i>=0;i--){\n",
    "\t\t\t\t\t\t\tprintf(\"%d \",a[i]);\n",
    "\t\t\t\t\t\t}getch();\n",
    "\t\t\t\t\t}\n",
    "\t\t\t\t\telse{\n",
    "\t\t\t\t\t\tprintf(\"\\n Stack is Empty \\n Stack is Underflow\");\n",
    "\t\t\t\t\t\tgetch();\n",
    "\t\t\t\t\t}\n",
    "\t\t\tbreak;\n",
    "\t\t\tcase 5: printf(\"\\n Program is terminating...\");\n",
    "\t\t\treturn 0;\n",
    "\t\t\tbreak;\n",
    "\t\t}\n",
    "\t}\n",
    "\treturn 0;\n",
    "}"
   ]
  },
  {
   "cell_type": "code",
   "execution_count": null,
   "metadata": {},
   "outputs": [],
   "source": []
  },
  {
   "cell_type": "code",
   "execution_count": null,
   "metadata": {},
   "outputs": [],
   "source": []
  },
  {
   "cell_type": "code",
   "execution_count": null,
   "metadata": {},
   "outputs": [],
   "source": []
  },
  {
   "cell_type": "code",
   "execution_count": null,
   "metadata": {},
   "outputs": [],
   "source": []
  },
  {
   "cell_type": "code",
   "execution_count": null,
   "metadata": {},
   "outputs": [],
   "source": []
  },
  {
   "cell_type": "code",
   "execution_count": null,
   "metadata": {},
   "outputs": [],
   "source": []
  },
  {
   "cell_type": "code",
   "execution_count": null,
   "metadata": {},
   "outputs": [],
   "source": []
  },
  {
   "cell_type": "code",
   "execution_count": null,
   "metadata": {},
   "outputs": [],
   "source": []
  },
  {
   "cell_type": "code",
   "execution_count": null,
   "metadata": {},
   "outputs": [],
   "source": []
  }
 ],
 "metadata": {
  "kernelspec": {
   "display_name": "Python 3",
   "language": "python",
   "name": "python3"
  },
  "language_info": {
   "codemirror_mode": {
    "name": "ipython",
    "version": 3
   },
   "file_extension": ".py",
   "mimetype": "text/x-python",
   "name": "python",
   "nbconvert_exporter": "python",
   "pygments_lexer": "ipython3",
   "version": "3.7.4"
  }
 },
 "nbformat": 4,
 "nbformat_minor": 2
}
